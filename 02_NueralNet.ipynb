{
 "cells": [
  {
   "attachments": {},
   "cell_type": "markdown",
   "metadata": {},
   "source": [
    "# Step Function"
   ]
  },
  {
   "cell_type": "code",
   "execution_count": 13,
   "metadata": {},
   "outputs": [
    {
     "name": "stdout",
     "output_type": "stream",
     "text": [
      "0\n",
      "1\n",
      "1\n"
     ]
    }
   ],
   "source": [
    "import numpy as np\n",
    "\n",
    "def step_function(x) :\n",
    "    if x > 0 :\n",
    "        return 1\n",
    "    else :\n",
    "        return 0\n",
    "\n",
    "print(step_function(0))\n",
    "print(step_function(2))\n",
    "print(step_function(3.14))\n",
    "# print(step_function(np.array([1.0, 2.0, 3.3])))"
   ]
  },
  {
   "cell_type": "code",
   "execution_count": 33,
   "metadata": {},
   "outputs": [
    {
     "name": "stdout",
     "output_type": "stream",
     "text": [
      "0\n",
      "1\n",
      "1\n",
      "[1 1 1]\n"
     ]
    }
   ],
   "source": [
    "import numpy as np\n",
    "\n",
    "def step_function(x):\n",
    "    x = np.array(x)  # Ensure that x is a numpy array\n",
    "    y = x > 0\n",
    "    return y.astype(np.int32)\n",
    "\n",
    "print(step_function(0))\n",
    "print(step_function(2))\n",
    "print(step_function(3.14))\n",
    "print(step_function(np.array([1.0, 2.0, 3.3])))\n"
   ]
  },
  {
   "attachments": {},
   "cell_type": "markdown",
   "metadata": {},
   "source": [
    "# Sigmoid Function "
   ]
  },
  {
   "cell_type": "code",
   "execution_count": 26,
   "metadata": {},
   "outputs": [
    {
     "data": {
      "text/plain": [
       "array([3.72007598e-44, 2.68941421e-01, 5.00000000e-01, 7.31058579e-01,\n",
       "       1.00000000e+00])"
      ]
     },
     "execution_count": 26,
     "metadata": {},
     "output_type": "execute_result"
    }
   ],
   "source": [
    "import numpy as np\n",
    "\n",
    "def sigmoid(x) :\n",
    "    return 1 / (1 + np.exp(-x))\n",
    "\n",
    "x = np.array([-100.0, -1.0, 0.0, 1.0, 200.0])\n",
    "sigmoid(x)"
   ]
  },
  {
   "attachments": {},
   "cell_type": "markdown",
   "metadata": {},
   "source": [
    "# ReLU (Rectified Linear Unit)"
   ]
  },
  {
   "cell_type": "code",
   "execution_count": 35,
   "metadata": {},
   "outputs": [
    {
     "name": "stdout",
     "output_type": "stream",
     "text": [
      "0\n",
      "0\n",
      "0.1\n",
      "100\n"
     ]
    }
   ],
   "source": [
    "def relu(x) :\n",
    "    return np.maximum(0, x)\n",
    "\n",
    "print(relu(-1))\n",
    "print(relu(0))\n",
    "print(relu(0.1))\n",
    "print(relu(100))"
   ]
  },
  {
   "attachments": {},
   "cell_type": "markdown",
   "metadata": {},
   "source": [
    "# 두 행렬의 곱 : np.dot()"
   ]
  },
  {
   "cell_type": "code",
   "execution_count": 41,
   "metadata": {},
   "outputs": [
    {
     "name": "stdout",
     "output_type": "stream",
     "text": [
      "(3, 2)\n",
      "(2,)\n",
      "A * B = [23 53 83]\n"
     ]
    }
   ],
   "source": [
    "A = np.array([\n",
    "    [1, 2], [3, 4], [5, 6]\n",
    "])\n",
    "B = np.array([7, 8])\n",
    "\n",
    "print(A.shape)\n",
    "print(B.shape)\n",
    "\n",
    "print(\"A * B = \"+ str(np.dot(A, B)))"
   ]
  },
  {
   "attachments": {},
   "cell_type": "markdown",
   "metadata": {},
   "source": [
    "# 각 층의 신호 전달 구현하기"
   ]
  },
  {
   "cell_type": "code",
   "execution_count": 6,
   "metadata": {},
   "outputs": [
    {
     "name": "stdout",
     "output_type": "stream",
     "text": [
      "[0.31682708 0.69627909]\n"
     ]
    }
   ],
   "source": [
    "import numpy as np\n",
    "\n",
    "def sigmoid_function(x) :\n",
    "    return 1 / (1 + np.exp(-x))\n",
    "def identity_function(x) :\n",
    "    return x\n",
    "\n",
    "# 신경망 구현의 관례에 따라 가중치만 대문자(W)로 쓰고, 그 외 편향과 중간 결과 등은 모두 소문자로 작성.\n",
    "def init_network() :\n",
    "    network = {}\n",
    "    network['W1'] = np.array([ [0.1, 0.3, 0.5], [0.2, 0.4, 0.6] ])\n",
    "    network['b1'] = np.array([ 0.1, 0.2, 0.3 ])\n",
    "    network['W2'] = np.array([ [0.1, 0.4], [0.2, 0.5], [0.3, 0.6] ])\n",
    "    network['b2'] = np.array([ 0.1, 0.2 ])\n",
    "    network['W3'] = np.array([ [0.1, 0.3], [0.2, 0.4] ])\n",
    "    network['b3'] = np.array([ 0.1, 0.2 ])\n",
    "    return network\n",
    "\n",
    "# 신호가 순방향(입력에서 출력 방향)으로 전달됨(순전파)을 알리기 위해 forward()\n",
    "# 신경망 학습을 다룰 때, 역방향(backward, 출력에서 입력 방향)처리도 있다.\n",
    "def forward(network, x) :\n",
    "    W1, W2, W3 = network['W1'], network['W2'], network['W3']\n",
    "    b1, b2, b3 = network['b1'], network['b2'], network['b3']\n",
    "\n",
    "    # Layer 0 (Input Layer)\n",
    "    a1 = np.dot(x, W1) + b1\n",
    "    z1 = sigmoid_function(a1)\n",
    "    # Layer 1 (Hidden Layer)\n",
    "    a2 = np.dot(z1, W2) + b2\n",
    "    z2 = sigmoid_function(a2)\n",
    "    # Layer 2 (Output Layer)\n",
    "    a3 = np.dot(z2, W3) + b3\n",
    "    y = identity_function(a3)\n",
    "    return y\n",
    "\n",
    "network = init_network()\n",
    "x = np.array( [1.0, 0.5] )\n",
    "y = forward(network, x)\n",
    "print(y)"
   ]
  },
  {
   "attachments": {},
   "cell_type": "markdown",
   "metadata": {},
   "source": [
    "# Softmax Function"
   ]
  },
  {
   "cell_type": "code",
   "execution_count": 8,
   "metadata": {},
   "outputs": [
    {
     "name": "stdout",
     "output_type": "stream",
     "text": [
      "[0.01821127 0.24519181 0.73659691]\n",
      "1.0\n"
     ]
    }
   ],
   "source": [
    "import numpy as np \n",
    "\n",
    "def softmax_function(a) :\n",
    "    c = np.max(a)  # 입력 신호 중 최대값을 c\n",
    "    exp_a = np.exp(a - c) # Overflow를 막기 위해 모든 입력 신호에서 최대값을 빼줌\n",
    "    sum_exp_a = np.sum(exp_a)\n",
    "    y = exp_a / sum_exp_a\n",
    "    return y\n",
    "\n",
    "a = np.array([ 0.3, 2.9, 4.0 ])\n",
    "y = softmax_function(a)\n",
    "print(y)\n",
    "print(np.sum(y))"
   ]
  },
  {
   "cell_type": "code",
   "execution_count": null,
   "metadata": {},
   "outputs": [],
   "source": []
  }
 ],
 "metadata": {
  "kernelspec": {
   "display_name": "Python 3",
   "language": "python",
   "name": "python3"
  },
  "language_info": {
   "codemirror_mode": {
    "name": "ipython",
    "version": 3
   },
   "file_extension": ".py",
   "mimetype": "text/x-python",
   "name": "python",
   "nbconvert_exporter": "python",
   "pygments_lexer": "ipython3",
   "version": "3.10.7"
  },
  "orig_nbformat": 4,
  "vscode": {
   "interpreter": {
    "hash": "aee8b7b246df8f9039afb4144a1f6fd8d2ca17a180786b69acc140d282b71a49"
   }
  }
 },
 "nbformat": 4,
 "nbformat_minor": 2
}
